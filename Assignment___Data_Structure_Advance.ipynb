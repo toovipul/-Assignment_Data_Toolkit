{
  "nbformat": 4,
  "nbformat_minor": 0,
  "metadata": {
    "colab": {
      "provenance": []
    },
    "kernelspec": {
      "name": "python3",
      "display_name": "Python 3"
    },
    "language_info": {
      "name": "python"
    }
  },
  "cells": [
    {
      "cell_type": "code",
      "execution_count": 22,
      "metadata": {
        "colab": {
          "base_uri": "https://localhost:8080/"
        },
        "id": "wtZ5UkwCCjo0",
        "outputId": "10c6bd8a-12d9-486e-be9c-c62d32cb30a6"
      },
      "outputs": [
        {
          "output_type": "stream",
          "name": "stdout",
          "text": [
            "olleh\n"
          ]
        }
      ],
      "source": [
        "#1: Write a code to reverse a string.\n",
        "def reverse_string(s):\n",
        "    \"\"\"Reverses a given string.\n",
        "\n",
        "    Args:\n",
        "        s: The input string.\n",
        "\n",
        "    Returns:\n",
        "        The reversed string.\n",
        "    \"\"\"\n",
        "    return s[::-1]\n",
        "\n",
        "# Example usage\n",
        "string = \"hello\"\n",
        "reversed_string = reverse_string(string)\n",
        "print(reversed_string)  # Output: olleh"
      ]
    },
    {
      "cell_type": "code",
      "source": [
        "#2:Write a code to count the number of vowels in a string.\n",
        "def count_vowels(s):\n",
        "    \"\"\"Counts the number of vowels in a string.\n",
        "\n",
        "    Args:\n",
        "        s: The input string.\n",
        "\n",
        "    Returns:\n",
        "        The count of vowels.\n",
        "    \"\"\"\n",
        "    vowels = \"aeiouAEIOU\"\n",
        "    count = 0\n",
        "    for char in s:\n",
        "        if char in vowels:\n",
        "            count += 1\n",
        "    return count\n",
        "\n",
        "# Example usage\n",
        "string = \"hello world\"\n",
        "vowel_count = count_vowels(string)\n",
        "print(vowel_count)  # Output: 3"
      ],
      "metadata": {
        "colab": {
          "base_uri": "https://localhost:8080/"
        },
        "id": "OFmXxev6Ct-h",
        "outputId": "e152088c-12bf-45ec-d050-beacdc8a4cea"
      },
      "execution_count": 23,
      "outputs": [
        {
          "output_type": "stream",
          "name": "stdout",
          "text": [
            "3\n"
          ]
        }
      ]
    },
    {
      "cell_type": "code",
      "source": [
        "#3: Write a code to check if a given string is a palindrome or not.\n",
        "def is_palindrome(s):\n",
        "    \"\"\"Checks if a given string is a palindrome.\n",
        "\n",
        "    Args:\n",
        "        s: The input string.\n",
        "\n",
        "    Returns:\n",
        "        True if the string is a palindrome, False otherwise.\n",
        "    \"\"\"\n",
        "    s = s.lower()  # Convert to lowercase to ignore case\n",
        "    return s == s[::-1]\n",
        "\n",
        "# Example usage\n",
        "string = \"racecar\"\n",
        "is_palindrome_string = is_palindrome(string)\n",
        "print(is_palindrome_string)  # Output: True"
      ],
      "metadata": {
        "colab": {
          "base_uri": "https://localhost:8080/"
        },
        "id": "L0FAiQCQCzEP",
        "outputId": "f7ae61d8-47d9-42c1-bf20-bbca7243a5a2"
      },
      "execution_count": 24,
      "outputs": [
        {
          "output_type": "stream",
          "name": "stdout",
          "text": [
            "True\n"
          ]
        }
      ]
    },
    {
      "cell_type": "code",
      "source": [
        "#4: Write a code to check if two given strings are anagrams of each other.\n",
        "def are_anagrams(s1, s2):\n",
        "    \"\"\"Checks if two strings are anagrams of each other.\n",
        "\n",
        "    Args:\n",
        "        s1: The first string.\n",
        "        s2: The second string.\n",
        "\n",
        "    Returns:\n",
        "        True if the strings are anagrams, False otherwise.\n",
        "    \"\"\"\n",
        "    return sorted(s1) == sorted(s2)\n",
        "\n",
        "# Example usage\n",
        "string1 = \"listen\"\n",
        "string2 = \"silent\"\n",
        "are_anagrams_result = are_anagrams(string1, string2)\n",
        "print(are_anagrams_result)  # Output: True"
      ],
      "metadata": {
        "colab": {
          "base_uri": "https://localhost:8080/"
        },
        "id": "kCQ79XJEC4a4",
        "outputId": "bfe47c64-dde7-44f3-ce1c-b39040cf3589"
      },
      "execution_count": 25,
      "outputs": [
        {
          "output_type": "stream",
          "name": "stdout",
          "text": [
            "True\n"
          ]
        }
      ]
    },
    {
      "cell_type": "code",
      "source": [
        "#5: Write a code to find all occurrences of a given substring within another string.\n",
        "\n",
        "def find_all_occurrences(s, sub):\n",
        "    \"\"\"Finds all occurrences of a substring within a string.\n",
        "\n",
        "    Args:\n",
        "        s: The main string.\n",
        "        sub: The substring to find.\n",
        "\n",
        "    Returns:\n",
        "        A list of indices where the substring occurs.\n",
        "    \"\"\"\n",
        "    indices = []\n",
        "    index = 0\n",
        "    while True:\n",
        "        index = s.find(sub, index)\n",
        "        if index == -1:\n",
        "            break\n",
        "        indices.append(index)\n",
        "        index += len(sub)\n",
        "    return indices\n",
        "\n",
        "# Example usage\n",
        "string = \"hello world hello\"\n",
        "substring = \"hello\"\n",
        "occurrences = find_all_occurrences(string, substring)\n",
        "print(occurrences)  # Output: [0, 13]"
      ],
      "metadata": {
        "colab": {
          "base_uri": "https://localhost:8080/"
        },
        "id": "YpeA8TkNC7AK",
        "outputId": "662256cc-25e2-4aad-9cdd-f26e7b544506"
      },
      "execution_count": 26,
      "outputs": [
        {
          "output_type": "stream",
          "name": "stdout",
          "text": [
            "[0, 12]\n"
          ]
        }
      ]
    },
    {
      "cell_type": "code",
      "source": [
        "#6: Write a code to perform basic string compression using the counts of repeated characters.\n",
        "def string_compression(s):\n",
        "    \"\"\"Performs basic string compression.\n",
        "\n",
        "    Args:\n",
        "        s: The input string.\n",
        "\n",
        "    Returns:\n",
        "        The compressed string.\n",
        "    \"\"\"\n",
        "    if not s:\n",
        "        return s\n",
        "\n",
        "    compressed = \"\"\n",
        "    count = 1\n",
        "    for i in range(1, len(s)):\n",
        "        if s[i] == s[i - 1]:\n",
        "            count += 1\n",
        "        else:\n",
        "            compressed += s[i - 1] + str(count)\n",
        "            count = 1\n",
        "    compressed += s[i] + str(count)\n",
        "\n",
        "    return compressed if len(compressed) < len(s) else s\n",
        "\n",
        "# Example usage\n",
        "string = \"aabcccccaaa\"\n",
        "compressed_string = string_compression(string)\n",
        "print(compressed_string)  # Output: \"a2b1c5a3\""
      ],
      "metadata": {
        "colab": {
          "base_uri": "https://localhost:8080/"
        },
        "id": "ZwZarTtyC-1g",
        "outputId": "ceeacf89-1225-4d41-91cb-f512bd2b6a98"
      },
      "execution_count": 27,
      "outputs": [
        {
          "output_type": "stream",
          "name": "stdout",
          "text": [
            "a2b1c5a3\n"
          ]
        }
      ]
    },
    {
      "cell_type": "code",
      "source": [
        "#7: Write a code to determine if a string has all unique characters.\n",
        "def has_all_unique_characters(s):\n",
        "    \"\"\"Checks if a string has all unique characters.\n",
        "\n",
        "    Args:\n",
        "        s: The input string.\n",
        "\n",
        "    Returns:\n",
        "        True if all characters are unique, False otherwise.\n",
        "    \"\"\"\n",
        "    return len(set(s)) == len(s)\n",
        "\n",
        "# Example usage\n",
        "string1 = \"abc\"\n",
        "string2 = \"abca\"\n",
        "unique_chars1 = has_all_unique_characters(string1)\n",
        "print(unique_chars1)  # Output: True\n",
        "unique_chars2 = has_all_unique_characters(string2)\n",
        "print(unique_chars2)  # Output: False"
      ],
      "metadata": {
        "colab": {
          "base_uri": "https://localhost:8080/"
        },
        "id": "ejbfFtk6DEma",
        "outputId": "c3715c3c-4d64-48fe-f4bb-c56baaa56ead"
      },
      "execution_count": 28,
      "outputs": [
        {
          "output_type": "stream",
          "name": "stdout",
          "text": [
            "True\n",
            "False\n"
          ]
        }
      ]
    },
    {
      "cell_type": "code",
      "source": [
        "# 8: Write a code to convert a given string to uppercase or lowercase.\n",
        "def convert_case(s, to_uppercase=True):\n",
        "    \"\"\"Converts a string to uppercase or lowercase.\n",
        "\n",
        "    Args:\n",
        "        s: The input string.\n",
        "        to_uppercase: If True, convert to uppercase; otherwise, convert to lowercase.\n",
        "\n",
        "    Returns:\n",
        "        The converted string.\n",
        "    \"\"\"\n",
        "    if to_uppercase:\n",
        "        return s.upper()\n",
        "    else:\n",
        "        return s.lower()\n",
        "\n",
        "# Example usage\n",
        "string = \"hello world\"\n",
        "uppercase_string = convert_case(string, to_uppercase=True)\n",
        "lowercase_string = convert_case(string, to_uppercase=False)\n",
        "print(uppercase_string)  # Output: \"HELLO WORLD\"\n",
        "print(lowercase_string)  # Output: \"hello world\""
      ],
      "metadata": {
        "colab": {
          "base_uri": "https://localhost:8080/"
        },
        "id": "O_NykwGsDJkL",
        "outputId": "68bce741-48d4-48f4-9923-c13371d24df7"
      },
      "execution_count": 29,
      "outputs": [
        {
          "output_type": "stream",
          "name": "stdout",
          "text": [
            "HELLO WORLD\n",
            "hello world\n"
          ]
        }
      ]
    },
    {
      "cell_type": "code",
      "source": [
        "# 9: Write a code to count the number of words in a string.\n",
        "def count_words(s):\n",
        "    \"\"\"Counts the number of words in a string.\n",
        "\n",
        "    Args:\n",
        "        s: The input string.\n",
        "\n",
        "    Returns:\n",
        "        The number of words.\n",
        "    \"\"\"\n",
        "    return len(s.split())\n",
        "\n",
        "# Example usage\n",
        "string = \"Hello this is a sentence.\"\n",
        "word_count = count_words(string)\n",
        "print(word_count)  # Output: 5"
      ],
      "metadata": {
        "colab": {
          "base_uri": "https://localhost:8080/"
        },
        "id": "DvcEut9lDUUZ",
        "outputId": "e4e99031-5928-4064-d4ac-dbc674bd47dd"
      },
      "execution_count": 30,
      "outputs": [
        {
          "output_type": "stream",
          "name": "stdout",
          "text": [
            "5\n"
          ]
        }
      ]
    },
    {
      "cell_type": "code",
      "source": [
        "#10: Write a code to concatenate two strings without using the + operator.\n",
        "def concatenate_strings(s1, s2):\n",
        "    \"\"\"Concatenates two strings without using the + operator.\n",
        "\n",
        "    Args:\n",
        "        s1: The first string.\n",
        "        s2: The second string.\n",
        "\n",
        "    Returns:\n",
        "        The concatenated string.\n",
        "    \"\"\"\n",
        "    return \"\".join((s1, s2))\n",
        "\n",
        "# Example usage\n",
        "string1 = \"hello\"\n",
        "string2 = \"world\"\n",
        "concatenated_string = concatenate_strings(string1, string2)\n",
        "print(concatenated_string)  # Output: \"helloworld\""
      ],
      "metadata": {
        "colab": {
          "base_uri": "https://localhost:8080/"
        },
        "id": "Id87D7WtDX_b",
        "outputId": "edd1cb5b-765a-4ed9-acd3-b8e8a80216a6"
      },
      "execution_count": 31,
      "outputs": [
        {
          "output_type": "stream",
          "name": "stdout",
          "text": [
            "helloworld\n"
          ]
        }
      ]
    },
    {
      "cell_type": "code",
      "source": [
        "#11: Write a code to remove all occurrences of a specific element from a list.\n",
        "def remove_all_occurrences(lst, element):\n",
        "    \"\"\"Removes all occurrences of a specific element from a list.\n",
        "\n",
        "    Args:\n",
        "        lst: The input list.\n",
        "        element: The element to remove.\n",
        "\n",
        "    Returns:\n",
        "        A new list without the element.\n",
        "    \"\"\"\n",
        "    return [item for item in lst if item != element]\n",
        "\n",
        "# Example usage\n",
        "lst = [1, 2, 3, 2, 4, 2, 5]\n",
        "element_to_remove = 2\n",
        "new_lst = remove_all_occurrences(lst, element_to_remove)\n",
        "print(new_lst)  # Output: [1, 3, 4, 5]"
      ],
      "metadata": {
        "colab": {
          "base_uri": "https://localhost:8080/"
        },
        "id": "1JK-Bf8jDdQl",
        "outputId": "11c640f4-dd15-41ef-8330-f186d27b2d70"
      },
      "execution_count": 32,
      "outputs": [
        {
          "output_type": "stream",
          "name": "stdout",
          "text": [
            "[1, 3, 4, 5]\n"
          ]
        }
      ]
    },
    {
      "cell_type": "code",
      "source": [
        "#12: Implement a code to find the second largest number in a given list of integers.\n",
        "def find_second_largest(lst):\n",
        "    \"\"\"Finds the second largest number in a list.\n",
        "\n",
        "    Args:\n",
        "        lst: The list of integers.\n",
        "\n",
        "    Returns:\n",
        "        The second largest number.\n",
        "    \"\"\"\n",
        "    if len(lst) < 2:\n",
        "        raise ValueError(\"List must have at least two elements.\")\n",
        "\n",
        "    largest = float('-inf')\n",
        "    second_largest = float('-inf')\n",
        "\n",
        "    for num in lst:\n",
        "        if num > largest:\n",
        "            second_largest = largest\n",
        "            largest = num\n",
        "        elif num > second_largest and num != largest:\n",
        "            second_largest = num\n",
        "\n",
        "    if second_largest == float('-inf'):\n",
        "        raise ValueError(\"List has no unique second largest number.\")\n",
        "\n",
        "    return second_largest\n",
        "\n",
        "# Example usage\n",
        "lst = [1, 2, 3, 4, 5, 4, 3, 2, 1]\n",
        "second_largest_num = find_second_largest(lst)\n",
        "print(second_largest_num)  # Output: 4"
      ],
      "metadata": {
        "colab": {
          "base_uri": "https://localhost:8080/"
        },
        "id": "6dBQl6NPDih9",
        "outputId": "c2d27c70-4dcd-4e59-93de-d01cd6607895"
      },
      "execution_count": 33,
      "outputs": [
        {
          "output_type": "stream",
          "name": "stdout",
          "text": [
            "4\n"
          ]
        }
      ]
    },
    {
      "cell_type": "code",
      "source": [
        "#13: Create a code to count the occurrences of each element in a list and return a dictionary with elements as keys and their counts as values.\n",
        "def count_elements(lst):\n",
        "    \"\"\"Counts the occurrences of each element in a list.\n",
        "\n",
        "    Args:\n",
        "        lst: The input list.\n",
        "\n",
        "    Returns:\n",
        "        A dictionary with elements as keys and their counts as values.\n",
        "    \"\"\"\n",
        "    element_counts = {}\n",
        "    for element in lst:\n",
        "        element_counts[element] = element_counts.get(element, 0) + 1\n",
        "    return element_counts\n",
        "\n",
        "# Example usage\n",
        "lst = [1, 2, 2, 3, 3, 3, 4]\n",
        "element_counts = count_elements(lst)\n",
        "print(element_counts)  # Output: {1: 1, 2: 2, 3: 3, 4: 1}"
      ],
      "metadata": {
        "colab": {
          "base_uri": "https://localhost:8080/"
        },
        "id": "BIZJQcDeDnWW",
        "outputId": "ed9be4ee-34ff-4372-b794-2a767d6a7833"
      },
      "execution_count": 34,
      "outputs": [
        {
          "output_type": "stream",
          "name": "stdout",
          "text": [
            "{1: 1, 2: 2, 3: 3, 4: 1}\n"
          ]
        }
      ]
    },
    {
      "cell_type": "code",
      "source": [
        "#14: Write a code to reverse a list in-place without using any built-in reverse functions.\n",
        "def reverse_list_in_place(lst):\n",
        "    \"\"\"Reverses a list in-place without using built-in reverse functions.\n",
        "\n",
        "    Args:\n",
        "        lst: The list to reverse.\n",
        "    \"\"\"\n",
        "    left = 0\n",
        "    right = len(lst) - 1\n",
        "    while left < right:\n",
        "        lst[left], lst[right] = lst[right], lst[left]\n",
        "        left += 1\n",
        "        right -= 1\n",
        "\n",
        "# Example usage\n",
        "lst = [1, 2, 3, 4, 5]\n",
        "reverse_list_in_place(lst)\n",
        "print(lst)  # Output: [5, 4, 3, 2, 1]"
      ],
      "metadata": {
        "colab": {
          "base_uri": "https://localhost:8080/"
        },
        "id": "o6FNTP6ADr9H",
        "outputId": "e29ce485-5654-47fd-8f76-be27148a0c57"
      },
      "execution_count": 35,
      "outputs": [
        {
          "output_type": "stream",
          "name": "stdout",
          "text": [
            "[5, 4, 3, 2, 1]\n"
          ]
        }
      ]
    },
    {
      "cell_type": "code",
      "source": [
        "#15: Implement a code to find and remove duplicates from a list while preserving the original order of elements.\n",
        "def remove_duplicates_preserve_order(lst):\n",
        "    \"\"\"Removes duplicates from a list while preserving the original order.\n",
        "\n",
        "    Args:\n",
        "        lst: The input list.\n",
        "\n",
        "    Returns:\n",
        "        A new list without duplicates.\n",
        "    \"\"\"\n",
        "    seen = set()\n",
        "    unique_lst = []\n",
        "    for element in lst:\n",
        "        if element not in seen:\n",
        "            seen.add(element)\n",
        "            unique_lst.append(element)\n",
        "    return unique_lst\n",
        "\n",
        "# Example usage\n",
        "lst = [1, 2, 2, 3, 3, 3, 4]\n",
        "unique_lst = remove_duplicates_preserve_order(lst)\n",
        "print(unique_lst)  # Output: [1, 2, 3, 4]"
      ],
      "metadata": {
        "colab": {
          "base_uri": "https://localhost:8080/"
        },
        "id": "CxhRAUsYDv1p",
        "outputId": "e2d273d2-6b80-4fbe-e28d-0b2d78fa9a71"
      },
      "execution_count": 36,
      "outputs": [
        {
          "output_type": "stream",
          "name": "stdout",
          "text": [
            "[1, 2, 3, 4]\n"
          ]
        }
      ]
    },
    {
      "cell_type": "code",
      "source": [
        "#16: Create a code to check if a given list is sorted (either in ascending or descending order) or not.\n",
        "def is_sorted(lst):\n",
        "    \"\"\"Checks if a list is sorted (ascending or descending).\n",
        "\n",
        "    Args:\n",
        "        lst: The input list.\n",
        "\n",
        "    Returns:\n",
        "        True if the list is sorted, False otherwise.\n",
        "    \"\"\"\n",
        "    return all(lst[i] <= lst[i + 1] for i in range(len(lst) - 1)) or all(lst[i] >= lst[i + 1] for i in range(len(lst) - 1))\n",
        "\n",
        "# Example usage\n",
        "lst1 = [1, 2, 3, 4, 5]\n",
        "lst2 = [5, 4, 3, 2, 1]\n",
        "lst3 = [1, 3, 2, 4]\n",
        "print(is_sorted(lst1))  # Output: True (ascending)\n",
        "print(is_sorted(lst2))  # Output: True (descending)\n",
        "print(is_sorted(lst3))  # Output: False"
      ],
      "metadata": {
        "colab": {
          "base_uri": "https://localhost:8080/"
        },
        "id": "ug7pqn1BD0Or",
        "outputId": "0e151ad4-ac15-4fe1-c7a4-5b92604ec9c2"
      },
      "execution_count": 37,
      "outputs": [
        {
          "output_type": "stream",
          "name": "stdout",
          "text": [
            "True\n",
            "True\n",
            "False\n"
          ]
        }
      ]
    },
    {
      "cell_type": "code",
      "source": [
        "#17: Write a code to merge two sorted lists into a single sorted list.\n",
        "def merge_sorted_lists(list1, list2):\n",
        "    \"\"\"Merges two sorted lists into a single sorted list.\n",
        "\n",
        "    Args:\n",
        "        list1: The first sorted list.\n",
        "        list2: The second sorted list.\n",
        "\n",
        "    Returns:\n",
        "        A new sorted list containing elements from both input lists.\n",
        "    \"\"\"\n",
        "    merged_list = []\n",
        "    i = 0\n",
        "    j = 0\n",
        "    while i < len(list1) and j < len(list2):\n",
        "        if list1[i] < list2[j]:\n",
        "            merged_list.append(list1[i])\n",
        "            i += 1\n",
        "        else:\n",
        "            merged_list.append(list2[j])\n",
        "            j += 1\n",
        "\n",
        "    # Append remaining elements from list1 or list2\n",
        "    merged_list.extend(list1[i:])\n",
        "    merged_list.extend(list2[j:])\n",
        "\n",
        "    return merged_list\n",
        "\n",
        "# Example usage\n",
        "list1 = [1, 3, 5]\n",
        "list2 = [2, 4, 6]\n",
        "merged_list = merge_sorted_lists(list1, list2)\n",
        "print(merged_list)  # Output: [1, 2, 3, 4, 5, 6]"
      ],
      "metadata": {
        "colab": {
          "base_uri": "https://localhost:8080/"
        },
        "id": "WlS0fCPvD32J",
        "outputId": "9327c06e-988d-4ed0-9da3-e411ca31627c"
      },
      "execution_count": 38,
      "outputs": [
        {
          "output_type": "stream",
          "name": "stdout",
          "text": [
            "[1, 2, 3, 4, 5, 6]\n"
          ]
        }
      ]
    },
    {
      "cell_type": "code",
      "source": [
        "#18: Implement a code to find the intersection of two given lists.\n",
        "def find_intersection(list1, list2):\n",
        "    \"\"\"Finds the intersection of two given lists.\n",
        "\n",
        "    Args:\n",
        "        list1: The first list.\n",
        "        list2: The second list.\n",
        "\n",
        "    Returns:\n",
        "        A new list containing elements that are common to both input lists.\n",
        "    \"\"\"\n",
        "    return list(set(list1).intersection(list2))\n",
        "\n",
        "# Example usage\n",
        "list1 = [1, 2, 3, 4, 5]\n",
        "list2 = [3, 4, 5, 6, 7]\n",
        "intersection_list = find_intersection(list1, list2)\n",
        "print(intersection_list)  # Output: [3, 4, 5]"
      ],
      "metadata": {
        "colab": {
          "base_uri": "https://localhost:8080/"
        },
        "id": "JS6ZgLZREXEP",
        "outputId": "33114e0d-b597-4d5d-9b6a-f782f1dcc95d"
      },
      "execution_count": 39,
      "outputs": [
        {
          "output_type": "stream",
          "name": "stdout",
          "text": [
            "[3, 4, 5]\n"
          ]
        }
      ]
    },
    {
      "cell_type": "code",
      "source": [
        "#19: Create a code to find the union of two lists without duplicates.\n",
        "def find_union(list1, list2):\n",
        "    \"\"\"Finds the union of two lists without duplicates.\n",
        "\n",
        "    Args:\n",
        "        list1: The first list.\n",
        "        list2: The second list.\n",
        "\n",
        "    Returns:\n",
        "        A new list containing unique elements from both input lists.\n",
        "    \"\"\"\n",
        "    return list(set(list1) | set(list2))\n",
        "\n",
        "# Example usage\n",
        "list1 = [1, 2, 3, 4, 5]\n",
        "list2 = [3, 4, 5, 6, 7]\n",
        "union_list = find_union(list1, list2)\n",
        "print(union_list)  # Output: [1, 2, 3, 4, 5, 6, 7]"
      ],
      "metadata": {
        "colab": {
          "base_uri": "https://localhost:8080/"
        },
        "id": "SwC2zTa7EtGv",
        "outputId": "fb122339-1dc6-4056-bfbf-5e6a41ce3825"
      },
      "execution_count": 40,
      "outputs": [
        {
          "output_type": "stream",
          "name": "stdout",
          "text": [
            "[1, 2, 3, 4, 5, 6, 7]\n"
          ]
        }
      ]
    },
    {
      "cell_type": "code",
      "source": [
        "#20: Write a code to shuffle a given list randomly without using any built-in shuffle functions.\n",
        "import random\n",
        "\n",
        "def shuffle_list(lst):\n",
        "    \"\"\"Shuffles a given list randomly.\n",
        "\n",
        "    Args:\n",
        "        lst: The list to shuffle.\n",
        "\n",
        "    Returns:\n",
        "        A new shuffled list.\n",
        "    \"\"\"\n",
        "    shuffled_list = lst.copy()\n",
        "    for i in range(len(shuffled_list) - 1, 0, -1):\n",
        "        j = random.randint(0, i)\n",
        "        shuffled_list[i], shuffled_list[j] = shuffled_list[j], shuffled_list[i]\n",
        "    return shuffled_list\n",
        "\n",
        "# Example usage\n",
        "lst = [1, 2, 3, 4, 5]\n",
        "shuffled_list = shuffle_list(lst)\n",
        "print(shuffled_list)  # Output: A randomly shuffled list"
      ],
      "metadata": {
        "colab": {
          "base_uri": "https://localhost:8080/"
        },
        "id": "7JWCnOnqGCdz",
        "outputId": "4ec30e37-ccee-4068-8884-13cfd4d0b20e"
      },
      "execution_count": 41,
      "outputs": [
        {
          "output_type": "stream",
          "name": "stdout",
          "text": [
            "[1, 3, 2, 4, 5]\n"
          ]
        }
      ]
    },
    {
      "cell_type": "code",
      "source": [
        "#21: Write a code that takes two tuples as input and returns a new tuple containing elements that are common to both input tuples.\n",
        "def find_common_elements(tuple1, tuple2):\n",
        "    \"\"\"Finds common elements in two tuples.\n",
        "\n",
        "    Args:\n",
        "        tuple1: The first tuple.\n",
        "        tuple2: The second tuple.\n",
        "\n",
        "    Returns:\n",
        "        A new tuple containing common elements.\n",
        "    \"\"\"\n",
        "    common_elements = tuple(set(tuple1) & set(tuple2))\n",
        "    return common_elements\n",
        "\n",
        "# Example usage\n",
        "tuple1 = (1, 2, 3, 4, 5)\n",
        "tuple2 = (3, 4, 5, 6, 7)\n",
        "common_tuple = find_common_elements(tuple1, tuple2)\n",
        "print(common_tuple)  # Output: (3, 4, 5)"
      ],
      "metadata": {
        "colab": {
          "base_uri": "https://localhost:8080/"
        },
        "id": "mgh6xNA9GFwx",
        "outputId": "2505de1c-dae1-4f46-b2f3-ac20b6cf92a2"
      },
      "execution_count": 42,
      "outputs": [
        {
          "output_type": "stream",
          "name": "stdout",
          "text": [
            "(3, 4, 5)\n"
          ]
        }
      ]
    },
    {
      "cell_type": "code",
      "source": [
        "# 22: Create a code that prompts the user to enter two sets of integers separated by commas. Then, print the intersection of these two sets.\n",
        "def get_user_input():\n",
        "    \"\"\"Prompts the user to enter two sets of integers.\"\"\"\n",
        "    set1_str = input(\"Enter the first set of integers (comma-separated): \")\n",
        "    set2_str = input(\"Enter the second set of integers (comma-separated): \")\n",
        "    set1 = set(map(int, set1_str.split(',')))\n",
        "    set2 = set(map(int, set2_str.split(',')))\n",
        "    return set1, set2\n",
        "\n",
        "def find_intersection_user_input():\n",
        "    \"\"\"Finds the intersection of two sets entered by the user.\"\"\"\n",
        "    set1, set2 = get_user_input()\n",
        "    intersection_set = set1.intersection(set2)\n",
        "    print(\"Intersection:\", intersection_set)\n",
        "\n",
        "# Example usage\n",
        "find_intersection_user_input()"
      ],
      "metadata": {
        "colab": {
          "base_uri": "https://localhost:8080/"
        },
        "id": "p4kdo7TzGa4G",
        "outputId": "655d1ce3-cbfd-44dd-f0b0-82da474ecb6d"
      },
      "execution_count": 43,
      "outputs": [
        {
          "output_type": "stream",
          "name": "stdout",
          "text": [
            "Enter the first set of integers (comma-separated): 45,45\n",
            "Enter the second set of integers (comma-separated): 45,50\n",
            "Intersection: {45}\n"
          ]
        }
      ]
    },
    {
      "cell_type": "code",
      "source": [
        "#23: Write a code to concatenate two tuples. The function should take two tuples as input and return a new tuple containing elements from both input tuples.\n",
        "def concatenate_tuples(tuple1, tuple2):\n",
        "    \"\"\"Concatenates two tuples.\n",
        "\n",
        "    Args:\n",
        "        tuple1: The first tuple.\n",
        "        tuple2: The second tuple.\n",
        "\n",
        "    Returns:\n",
        "        A new tuple containing elements from both input tuples.\n",
        "    \"\"\"\n",
        "    return tuple1 + tuple2\n",
        "\n",
        "# Example usage\n",
        "tuple1 = (1, 2, 3)\n",
        "tuple2 = (4, 5, 6)\n",
        "concatenated_tuple = concatenate_tuples(tuple1, tuple2)\n",
        "print(concatenated_tuple)  # Output: (1, 2, 3, 4, 5, 6)"
      ],
      "metadata": {
        "colab": {
          "base_uri": "https://localhost:8080/"
        },
        "id": "_APQnavvIHNi",
        "outputId": "cb5ea98a-47a7-4585-f93b-48bb281780a8"
      },
      "execution_count": 44,
      "outputs": [
        {
          "output_type": "stream",
          "name": "stdout",
          "text": [
            "(1, 2, 3, 4, 5, 6)\n"
          ]
        }
      ]
    },
    {
      "cell_type": "code",
      "source": [
        "#24: Develop a code that prompts the user to input two sets of strings. Then, print the elements that are present in the first set but not in the second set.\n",
        "def set_difference_user_input():\n",
        "    \"\"\"Prompts the user to enter two sets of strings and prints their difference.\"\"\"\n",
        "    set1_str = input(\"Enter the first set of strings (comma-separated): \")\n",
        "    set2_str = input(\"Enter the second set of strings (comma-separated): \")\n",
        "    set1 = set(set1_str.split(','))\n",
        "    set2 = set(set2_str.split(','))\n",
        "    difference_set = set1 - set2\n",
        "    print(\"Elements in set1 but not in set2:\", difference_set)\n",
        "\n",
        "# Example usage\n",
        "set_difference_user_input()"
      ],
      "metadata": {
        "colab": {
          "base_uri": "https://localhost:8080/"
        },
        "id": "3y-T1Ri9IMrO",
        "outputId": "160b114f-de42-4532-860c-3e6e604fbc42"
      },
      "execution_count": 45,
      "outputs": [
        {
          "output_type": "stream",
          "name": "stdout",
          "text": [
            "Enter the first set of strings (comma-separated): 45,4\n",
            "Enter the second set of strings (comma-separated): 4,2\n",
            "Elements in set1 but not in set2: {'45'}\n"
          ]
        }
      ]
    },
    {
      "cell_type": "code",
      "source": [
        "#25: Create a code that takes a tuple and two integers as input. The function should return a new tuple containing elements from the original tuple within the specified range of indices.\n",
        "def slice_tuple(tuple_, start, end):\n",
        "    \"\"\"Slices a tuple within a specified range.\n",
        "\n",
        "    Args:\n",
        "        tuple_: The input tuple.\n",
        "        start: The starting index (inclusive).\n",
        "        end: The ending index (exclusive).\n",
        "\n",
        "    Returns:\n",
        "        A new tuple with elements within the specified range.\n",
        "    \"\"\"\n",
        "    return tuple_[start:end]\n",
        "\n",
        "# Example usage\n",
        "tuple_ = (1, 2, 3, 4, 5)\n",
        "start = 1\n",
        "end = 4\n",
        "sliced_tuple = slice_tuple(tuple_, start, end)\n",
        "print(sliced_tuple)  # Output: (2, 3, 4)"
      ],
      "metadata": {
        "colab": {
          "base_uri": "https://localhost:8080/"
        },
        "id": "7s0SMGtvK2Jn",
        "outputId": "48559ff3-07f3-4713-fc5e-651d54ca4d93"
      },
      "execution_count": 46,
      "outputs": [
        {
          "output_type": "stream",
          "name": "stdout",
          "text": [
            "(2, 3, 4)\n"
          ]
        }
      ]
    },
    {
      "cell_type": "code",
      "source": [
        "#26: Write a code that prompts the user to input two sets of characters. Then, print the union of these two sets.\n",
        "def union_of_character_sets_user_input():\n",
        "    \"\"\"Prompts the user to enter two sets of characters and prints their union.\"\"\"\n",
        "    set1_str = input(\"Enter the first set of characters: \")\n",
        "    set2_str = input(\"Enter the second set of characters: \")\n",
        "    set1 = set(set1_str)\n",
        "    set2 = set(set2_str)\n",
        "    union_set = set1.union(set2)\n",
        "    print(\"Union of the sets:\", union_set)\n",
        "\n",
        "# Example usage\n",
        "union_of_character_sets_user_input()"
      ],
      "metadata": {
        "id": "7Gsd5iZbK6C4"
      },
      "execution_count": null,
      "outputs": []
    },
    {
      "cell_type": "code",
      "source": [
        "#27: Develop a code that takes a tuple of integers as input. The function should return the maximum and minimum values from the tuple using tuple unpacking.\n",
        "def find_max_min(tuple_):\n",
        "    \"\"\"Finds the maximum and minimum values in a tuple.\n",
        "\n",
        "    Args:\n",
        "        tuple_: The input tuple of integers.\n",
        "\n",
        "    Returns:\n",
        "        A tuple containing the maximum and minimum values.\n",
        "    \"\"\"\n",
        "    return max(tuple_), min(tuple_)\n",
        "\n",
        "# Example usage\n",
        "tuple_ = (5, 2, 8, 1, 3)\n",
        "max_value, min_value = find_max_min(tuple_)\n",
        "print(\"Maximum value:\", max_value)\n",
        "print(\"Minimum value:\", min_value)"
      ],
      "metadata": {
        "id": "Jl3ENej8MAgL"
      },
      "execution_count": null,
      "outputs": []
    },
    {
      "cell_type": "code",
      "source": [
        "#28: Create a code that defines two sets of integers. Then, print the union, intersection, and difference of these two sets.\n",
        "def set_operations():\n",
        "    \"\"\"Defines two sets of integers and prints their union, intersection, and difference.\"\"\"\n",
        "    set1 = {1, 2, 3, 4, 5}\n",
        "    set2 = {3, 4, 5, 6, 7}\n",
        "    union_set = set1.union(set2)\n",
        "    intersection_set = set1.intersection(set2)\n",
        "    difference_set = set1 - set2\n",
        "    print(\"Union:\", union_set)\n",
        "    print(\"Intersection:\", intersection_set)\n",
        "    print(\"Difference (set1 - set2):\", difference_set)\n",
        "\n",
        "# Example usage\n",
        "set_operations()"
      ],
      "metadata": {
        "id": "Wnrn4iWmMFCJ"
      },
      "execution_count": null,
      "outputs": []
    },
    {
      "cell_type": "code",
      "source": [
        "#29: Write a code that takes a tuple and an element as input. The function should return the count of occurrences of the given element in the tuple.\n",
        "def count_occurrences(tuple_, element):\n",
        "    \"\"\"Counts the occurrences of an element in a tuple.\n",
        "\n",
        "    Args:\n",
        "        tuple_: The input tuple.\n",
        "        element: The element to count.\n",
        "\n",
        "    Returns:\n",
        "        The count of occurrences.\n",
        "    \"\"\"\n",
        "    return tuple_.count(element)\n",
        "\n",
        "# Example usage\n",
        "tuple_ = (1, 2, 2, 3, 3, 3, 4)\n",
        "element = 3\n",
        "count = count_occurrences(tuple_, element)\n",
        "print(\"Count of\", element, \":\", count)  # Output: Count of 3 : 3"
      ],
      "metadata": {
        "id": "at_Z-ps0MKbr"
      },
      "execution_count": null,
      "outputs": []
    },
    {
      "cell_type": "code",
      "source": [
        "#30: Develop a code that prompts the user to input two sets of strings. Then, print the symmetric difference of these two sets.\n",
        "def symmetric_difference_user_input():\n",
        "    \"\"\"Prompts the user to enter two sets of strings and prints their symmetric difference.\"\"\"\n",
        "    set1_str = input(\"Enter the first set of strings (comma-separated): \")\n",
        "    set2_str = input(\"Enter the second set of strings (comma-separated): \")\n",
        "    set1 = set(set1_str.split(','))\n",
        "    set2 = set(set2_str.split(','))\n",
        "    symmetric_difference_set = set1.symmetric_difference(set2)\n",
        "    print(\"Symmetric difference:\", symmetric_difference_set)\n",
        "\n",
        "# Example usage\n",
        "symmetric_difference_user_input()"
      ],
      "metadata": {
        "id": "ZGQ4kxOeMQ8I"
      },
      "execution_count": null,
      "outputs": []
    },
    {
      "cell_type": "code",
      "source": [
        "#31: Write a code that takes a list of words as input and returns a dictionary where the keys are unique words and the values are the frequencies of those words in the input list.\n",
        "def word_frequencies(words):\n",
        "    \"\"\"Calculates the frequencies of words in a list.\n",
        "\n",
        "    Args:\n",
        "        words: The list of words.\n",
        "\n",
        "    Returns:\n",
        "        A dictionary where keys are unique words and values are their frequencies.\n",
        "    \"\"\"\n",
        "    word_counts = {}\n",
        "    for word in words:\n",
        "        word_counts[word] = word_counts.get(word, 0) + 1\n",
        "    return word_counts\n",
        "\n",
        "# Example usage\n",
        "words = [\"apple\", \"banana\", \"apple\", \"orange\", \"banana\", \"apple\"]\n",
        "word_freq_dict = word_frequencies(words)\n",
        "print(word_freq_dict)  # Output: {'apple': 3, 'banana': 2, 'orange': 1}"
      ],
      "metadata": {
        "id": "wY8nL9B0MXDF"
      },
      "execution_count": null,
      "outputs": []
    },
    {
      "cell_type": "code",
      "source": [
        "#32: Write a code that takes two dictionaries as input and merges them into a single dictionary. If there are common keys, the values should be added together.\n",
        "def merge_dictionaries(dict1, dict2):\n",
        "    \"\"\"Merges two dictionaries, adding values for common keys.\n",
        "\n",
        "    Args:\n",
        "        dict1: The first dictionary.\n",
        "        dict2: The second dictionary.\n",
        "\n",
        "    Returns:\n",
        "        A new dictionary with merged values.\n",
        "    \"\"\"\n",
        "    merged_dict = {}\n",
        "    for key in set(dict1.keys()).union(dict2.keys()):\n",
        "        merged_dict[key] = (dict1.get(key, 0) + dict2.get(key, 0))\n",
        "    return merged_dict\n",
        "\n",
        "# Example usage\n",
        "dict1 = {'a': 1, 'b': 2, 'c': 3}\n",
        "dict2 = {'b': 4, 'c': 5, 'd': 6}\n",
        "merged_dict = merge_dictionaries(dict1, dict2)\n",
        "print(merged_dict)  # Output: {'a': 1, 'b': 6, 'c': 8, 'd': 6}"
      ],
      "metadata": {
        "id": "IF0u-J_mMZw0"
      },
      "execution_count": null,
      "outputs": []
    },
    {
      "cell_type": "code",
      "source": [
        "#33: Write a code to access a value in a nested dictionary. The function should take the dictionary and a list of keys as input, and return the corresponding value. If any of the keys do not exist in the dictionary, the function should return None.\n",
        "def access_nested_value(dictionary, keys):\n",
        "    \"\"\"Accesses a value in a nested dictionary.\n",
        "\n",
        "    Args:\n",
        "        dictionary: The input dictionary.\n",
        "        keys: A list of keys to access the value.\n",
        "\n",
        "    Returns:\n",
        "        The corresponding value, or None if any key does not exist.\n",
        "    \"\"\"\n",
        "    current_dict = dictionary\n",
        "    for key in keys:\n",
        "        if key in current_dict:\n",
        "            current_dict = current_dict[key]\n",
        "        else:\n",
        "            return None\n",
        "    return current_dict\n",
        "\n",
        "# Example usage\n",
        "nested_dict = {'a': {'b': {'c': 1}}}\n",
        "keys = ['a', 'b', 'c']\n",
        "value = access_nested_value(nested_dict, keys)\n",
        "print(value)  # Output: 1\n",
        "\n",
        "nested_dict = {'a': {'b': {'c': 1}}}\n",
        "keys = ['a', 'b', 'd']\n",
        "value = access_nested_value(nested_dict,"
      ],
      "metadata": {
        "id": "D05bdlzbMel8"
      },
      "execution_count": null,
      "outputs": []
    }
  ]
}